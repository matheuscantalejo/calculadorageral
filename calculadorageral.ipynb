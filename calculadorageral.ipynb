{
 "cells": [
  {
   "cell_type": "code",
   "execution_count": 12,
   "id": "e7c18171",
   "metadata": {},
   "outputs": [
    {
     "name": "stdout",
     "output_type": "stream",
     "text": [
      "Digite um número: 2\n",
      "Digite o segundo número:2\n",
      "A soma é igual a: 2.0 + 2.0  =  4.0\n",
      "A subtração é igual a: 2.0 - 2.0  =  0.0\n",
      "A multiplicação é igual a: 2.0 * 2.0  =  4.0\n",
      "A divisão é igual a: 2.0 / 2.0  =  1.0\n",
      "A expo é igual a: 2.0 ** 2.0  =  4.0\n",
      "O resto é igual a: 2.0 % 2.0  =  0.0\n"
     ]
    }
   ],
   "source": [
    "num1 = float(input(\"Digite um número: \"))\n",
    "num2 = float(input(\"Digite o segundo número:\"))\n",
    "\n",
    "soma = num1 + num2\n",
    "sub =  num1 - num2\n",
    "mult = num1 * num2\n",
    "div = num1 / num2\n",
    "expo = num1 ** num2\n",
    "resto = num1 % num2\n",
    "\n",
    "print('A soma é igual a:', num1, '+', num2, ' = ', soma)\n",
    "print('A subtração é igual a:', num1, '-', num2, ' = ', sub)\n",
    "print('A multiplicação é igual a:', num1, '*', num2, ' = ', mult)\n",
    "print('A divisão é igual a:', num1, '/', num2, ' = ', div)\n",
    "print('A expo é igual a:', num1, '**', num2, ' = ', expo)\n",
    "print('O resto é igual a:', num1, '%', num2, ' = ', resto)"
   ]
  },
  {
   "cell_type": "code",
   "execution_count": null,
   "id": "d7c1c3df",
   "metadata": {},
   "outputs": [],
   "source": []
  },
  {
   "cell_type": "code",
   "execution_count": null,
   "id": "194807fc",
   "metadata": {},
   "outputs": [],
   "source": []
  },
  {
   "cell_type": "code",
   "execution_count": null,
   "id": "a771d1a2",
   "metadata": {},
   "outputs": [],
   "source": []
  },
  {
   "cell_type": "code",
   "execution_count": null,
   "id": "b2bd4cab",
   "metadata": {},
   "outputs": [],
   "source": []
  }
 ],
 "metadata": {
  "kernelspec": {
   "display_name": "Python 3 (ipykernel)",
   "language": "python",
   "name": "python3"
  },
  "language_info": {
   "codemirror_mode": {
    "name": "ipython",
    "version": 3
   },
   "file_extension": ".py",
   "mimetype": "text/x-python",
   "name": "python",
   "nbconvert_exporter": "python",
   "pygments_lexer": "ipython3",
   "version": "3.9.7"
  }
 },
 "nbformat": 4,
 "nbformat_minor": 5
}
